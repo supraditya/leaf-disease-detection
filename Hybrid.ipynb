{
 "cells": [
  {
   "cell_type": "code",
   "execution_count": 1,
   "metadata": {},
   "outputs": [],
   "source": [
    "#USING SVM IN CNN: RCNN\n",
    "\n",
    "from tensorflow.compat.v1 import ConfigProto\n",
    "from tensorflow.compat.v1 import InteractiveSession\n",
    "\n",
    "config = ConfigProto()\n",
    "config.gpu_options.per_process_gpu_memory_fraction = 0.5 #50%GPU shared memory\n",
    "config.gpu_options.allow_growth = True\n",
    "session = InteractiveSession(config=config)"
   ]
  },
  {
   "cell_type": "code",
   "execution_count": 2,
   "metadata": {},
   "outputs": [],
   "source": [
    "# Importing the libraries\n",
    "import tensorflow as tf\n",
    "from tensorflow.keras.preprocessing.image import ImageDataGenerator"
   ]
  },
  {
   "cell_type": "code",
   "execution_count": 3,
   "metadata": {},
   "outputs": [],
   "source": [
    "# Part 1 - Data Preprocessing\n",
    "# Preprocessing the Training set\n",
    "train_datagen = ImageDataGenerator(rescale = 1./255,\n",
    "                                   shear_range = 0.2,\n",
    "                                   zoom_range = 0.2,\n",
    "                                   horizontal_flip = True)"
   ]
  },
  {
   "cell_type": "code",
   "execution_count": 4,
   "metadata": {},
   "outputs": [
    {
     "name": "stdout",
     "output_type": "stream",
     "text": [
      "Found 777 images belonging to 4 classes.\n",
      "Found 72 images belonging to 4 classes.\n"
     ]
    }
   ],
   "source": [
    "training_set = train_datagen.flow_from_directory('Downloads/train',\n",
    "                                                 target_size = (64, 64),\n",
    "                                                 batch_size = 32,\n",
    "                                                 class_mode = 'categorical',subset=\"training\")\n",
    "# Preprocessing the Test set\n",
    "test_datagen = ImageDataGenerator(rescale = 1./255, validation_split=0.9)\n",
    "test_set = test_datagen.flow_from_directory('Downloads/test',\n",
    "                                            target_size = (64, 64),\n",
    "                                            batch_size = 32,\n",
    "                                            class_mode = 'categorical',subset=\"validation\")\n",
    "#Question: Why didnt you use image train_datagen for the test as well? Why no augmentation in test apart from rescale?"
   ]
  },
  {
   "cell_type": "code",
   "execution_count": 5,
   "metadata": {},
   "outputs": [],
   "source": [
    "from tensorflow.keras.layers import Conv2D\n",
    "from tensorflow.keras.layers import Dense #add nodes\n",
    "from tensorflow.keras.regularizers import l2"
   ]
  },
  {
   "cell_type": "code",
   "execution_count": 6,
   "metadata": {},
   "outputs": [],
   "source": [
    "# Part 2 - Building the CNN\n",
    "# Initialising the CNN\n",
    "cnn = tf.keras.models.Sequential() \n",
    "\n",
    "# Step 1 - Convolution \n",
    "cnn.add(tf.keras.layers.Conv2D(filters=32,padding=\"same\",kernel_size=3, activation='relu', strides=2, input_shape=[64, 64, 3]))\n",
    "\n",
    "# Step 2 - Pooling\n",
    "cnn.add(tf.keras.layers.MaxPool2D(pool_size=2, strides=2)) #as 2D image\n",
    "\n",
    "# Adding a second convolutional layer\n",
    "cnn.add(tf.keras.layers.Conv2D(filters=32,padding='same',kernel_size=3, activation='relu'))\n",
    "cnn.add(tf.keras.layers.MaxPool2D(pool_size=2, strides=2))\n",
    "\n",
    "# Step 3 - Flattening\n",
    "cnn.add(tf.keras.layers.Flatten())\n",
    "\n",
    "# Step 4 - Full Connection\n",
    "cnn.add(tf.keras.layers.Dense(units=128, activation='relu'))"
   ]
  },
  {
   "cell_type": "code",
   "execution_count": 7,
   "metadata": {},
   "outputs": [],
   "source": [
    "#Output and Compiler (SVM)\n",
    "cnn.add(Dense(4, kernel_regularizer=tf.keras.regularizers.l2(0.01),activation ='softmax'))  #l2 norm and can be 0.001 also\n",
    "cnn.compile(optimizer = 'adam', loss = 'squared_hinge', metrics = ['accuracy'])"
   ]
  },
  {
   "cell_type": "code",
   "execution_count": 8,
   "metadata": {},
   "outputs": [
    {
     "name": "stdout",
     "output_type": "stream",
     "text": [
      "Model: \"sequential\"\n",
      "_________________________________________________________________\n",
      "Layer (type)                 Output Shape              Param #   \n",
      "=================================================================\n",
      "conv2d (Conv2D)              (None, 32, 32, 32)        896       \n",
      "_________________________________________________________________\n",
      "max_pooling2d (MaxPooling2D) (None, 16, 16, 32)        0         \n",
      "_________________________________________________________________\n",
      "conv2d_1 (Conv2D)            (None, 16, 16, 32)        9248      \n",
      "_________________________________________________________________\n",
      "max_pooling2d_1 (MaxPooling2 (None, 8, 8, 32)          0         \n",
      "_________________________________________________________________\n",
      "flatten (Flatten)            (None, 2048)              0         \n",
      "_________________________________________________________________\n",
      "dense (Dense)                (None, 128)               262272    \n",
      "_________________________________________________________________\n",
      "dense_1 (Dense)              (None, 4)                 516       \n",
      "=================================================================\n",
      "Total params: 272,932\n",
      "Trainable params: 272,932\n",
      "Non-trainable params: 0\n",
      "_________________________________________________________________\n"
     ]
    }
   ],
   "source": [
    "cnn.summary()"
   ]
  },
  {
   "cell_type": "code",
   "execution_count": 9,
   "metadata": {},
   "outputs": [
    {
     "name": "stdout",
     "output_type": "stream",
     "text": [
      "Epoch 1/100\n",
      "WARNING:tensorflow:AutoGraph could not transform <function Model.make_train_function.<locals>.train_function at 0x0000020AE352B1F8> and will run it as-is.\n",
      "Please report this to the TensorFlow team. When filing the bug, set the verbosity to 10 (on Linux, `export AUTOGRAPH_VERBOSITY=10`) and attach the full output.\n",
      "Cause: 'arguments' object has no attribute 'posonlyargs'\n",
      "To silence this warning, decorate the function with @tf.autograph.experimental.do_not_convert\n",
      "WARNING: AutoGraph could not transform <function Model.make_train_function.<locals>.train_function at 0x0000020AE352B1F8> and will run it as-is.\n",
      "Please report this to the TensorFlow team. When filing the bug, set the verbosity to 10 (on Linux, `export AUTOGRAPH_VERBOSITY=10`) and attach the full output.\n",
      "Cause: 'arguments' object has no attribute 'posonlyargs'\n",
      "To silence this warning, decorate the function with @tf.autograph.experimental.do_not_convert\n",
      " 1/25 [>.............................] - ETA: 0s - loss: 1.4000 - accuracy: 0.1875"
     ]
    },
    {
     "name": "stderr",
     "output_type": "stream",
     "text": [
      "C:\\Users\\pavit\\anaconda3\\lib\\site-packages\\PIL\\TiffImagePlugin.py:766: UserWarning: Possibly corrupt EXIF data.  Expecting to read 99 bytes but only got 74. Skipping tag 45059\n",
      "  \" Skipping tag %s\" % (size, len(data), tag)\n",
      "C:\\Users\\pavit\\anaconda3\\lib\\site-packages\\PIL\\JpegImagePlugin.py:795: UserWarning: Image appears to be a malformed MPO file, it will be interpreted as a base JPEG file\n",
      "  \"Image appears to be a malformed MPO file, it will be \"\n"
     ]
    },
    {
     "name": "stdout",
     "output_type": "stream",
     "text": [
      "25/25 [==============================] - ETA: 0s - loss: 1.2407 - accuracy: 0.5367WARNING:tensorflow:AutoGraph could not transform <function Model.make_test_function.<locals>.test_function at 0x0000020A8081B1F8> and will run it as-is.\n",
      "Please report this to the TensorFlow team. When filing the bug, set the verbosity to 10 (on Linux, `export AUTOGRAPH_VERBOSITY=10`) and attach the full output.\n",
      "Cause: 'arguments' object has no attribute 'posonlyargs'\n",
      "To silence this warning, decorate the function with @tf.autograph.experimental.do_not_convert\n",
      "WARNING: AutoGraph could not transform <function Model.make_test_function.<locals>.test_function at 0x0000020A8081B1F8> and will run it as-is.\n",
      "Please report this to the TensorFlow team. When filing the bug, set the verbosity to 10 (on Linux, `export AUTOGRAPH_VERBOSITY=10`) and attach the full output.\n",
      "Cause: 'arguments' object has no attribute 'posonlyargs'\n",
      "To silence this warning, decorate the function with @tf.autograph.experimental.do_not_convert\n",
      "25/25 [==============================] - 208s 8s/step - loss: 1.2407 - accuracy: 0.5367 - val_loss: 1.3430 - val_accuracy: 0.2778\n",
      "Epoch 2/100\n",
      "25/25 [==============================] - 170s 7s/step - loss: 1.1896 - accuracy: 0.5804 - val_loss: 1.3037 - val_accuracy: 0.2778\n",
      "Epoch 3/100\n",
      "25/25 [==============================] - 171s 7s/step - loss: 1.1337 - accuracy: 0.6049 - val_loss: 1.3372 - val_accuracy: 0.2917\n",
      "Epoch 4/100\n",
      "25/25 [==============================] - 163s 7s/step - loss: 1.1125 - accuracy: 0.6371 - val_loss: 1.2672 - val_accuracy: 0.4028\n",
      "Epoch 5/100\n",
      "25/25 [==============================] - 146s 6s/step - loss: 1.0835 - accuracy: 0.6705 - val_loss: 1.2224 - val_accuracy: 0.4722\n",
      "Epoch 6/100\n",
      "25/25 [==============================] - 95s 4s/step - loss: 1.0721 - accuracy: 0.6834 - val_loss: 1.2247 - val_accuracy: 0.5139\n",
      "Epoch 7/100\n",
      "25/25 [==============================] - 90s 4s/step - loss: 1.0554 - accuracy: 0.6937 - val_loss: 1.1508 - val_accuracy: 0.6111\n",
      "Epoch 8/100\n",
      "25/25 [==============================] - 89s 4s/step - loss: 1.0460 - accuracy: 0.7053 - val_loss: 1.2798 - val_accuracy: 0.5139\n",
      "Epoch 9/100\n",
      "25/25 [==============================] - 89s 4s/step - loss: 1.0387 - accuracy: 0.7194 - val_loss: 1.1466 - val_accuracy: 0.5972\n",
      "Epoch 10/100\n",
      "25/25 [==============================] - 90s 4s/step - loss: 1.0267 - accuracy: 0.7246 - val_loss: 1.1286 - val_accuracy: 0.6528\n",
      "Epoch 11/100\n",
      "25/25 [==============================] - 91s 4s/step - loss: 1.0091 - accuracy: 0.7542 - val_loss: 1.0927 - val_accuracy: 0.7083\n",
      "Epoch 12/100\n",
      "25/25 [==============================] - 88s 4s/step - loss: 1.0080 - accuracy: 0.7555 - val_loss: 1.1149 - val_accuracy: 0.6528\n",
      "Epoch 13/100\n",
      "25/25 [==============================] - 91s 4s/step - loss: 1.0144 - accuracy: 0.7387 - val_loss: 1.0839 - val_accuracy: 0.7083\n",
      "Epoch 14/100\n",
      "25/25 [==============================] - 88s 4s/step - loss: 0.9972 - accuracy: 0.7645 - val_loss: 1.1190 - val_accuracy: 0.6667\n",
      "Epoch 15/100\n",
      "25/25 [==============================] - 88s 4s/step - loss: 1.0081 - accuracy: 0.7413 - val_loss: 1.0817 - val_accuracy: 0.7222\n",
      "Epoch 16/100\n",
      "25/25 [==============================] - 88s 4s/step - loss: 0.9832 - accuracy: 0.7722 - val_loss: 1.0796 - val_accuracy: 0.7222\n",
      "Epoch 17/100\n",
      "25/25 [==============================] - 89s 4s/step - loss: 0.9767 - accuracy: 0.7967 - val_loss: 1.1141 - val_accuracy: 0.6528\n",
      "Epoch 18/100\n",
      "25/25 [==============================] - 86s 3s/step - loss: 0.9830 - accuracy: 0.7722 - val_loss: 1.1392 - val_accuracy: 0.5972\n",
      "Epoch 19/100\n",
      "25/25 [==============================] - 87s 3s/step - loss: 0.9807 - accuracy: 0.7748 - val_loss: 1.1289 - val_accuracy: 0.5833\n",
      "Epoch 20/100\n",
      "25/25 [==============================] - 87s 3s/step - loss: 0.9880 - accuracy: 0.7619 - val_loss: 1.0811 - val_accuracy: 0.6944\n",
      "Epoch 21/100\n",
      "25/25 [==============================] - 89s 4s/step - loss: 0.9662 - accuracy: 0.7979 - val_loss: 1.1162 - val_accuracy: 0.6250\n",
      "Epoch 22/100\n",
      "25/25 [==============================] - 88s 4s/step - loss: 0.9697 - accuracy: 0.7902 - val_loss: 1.0775 - val_accuracy: 0.6944\n",
      "Epoch 23/100\n",
      "25/25 [==============================] - 84s 3s/step - loss: 0.9659 - accuracy: 0.7915 - val_loss: 1.0840 - val_accuracy: 0.6667\n",
      "Epoch 24/100\n",
      "25/25 [==============================] - 86s 3s/step - loss: 0.9608 - accuracy: 0.7941 - val_loss: 1.0707 - val_accuracy: 0.6528\n",
      "Epoch 25/100\n",
      "25/25 [==============================] - 86s 3s/step - loss: 0.9476 - accuracy: 0.8095 - val_loss: 0.9944 - val_accuracy: 0.8333\n",
      "Epoch 26/100\n",
      "25/25 [==============================] - 86s 3s/step - loss: 0.9463 - accuracy: 0.8018 - val_loss: 1.0742 - val_accuracy: 0.6667\n",
      "Epoch 27/100\n",
      "25/25 [==============================] - 83s 3s/step - loss: 0.9322 - accuracy: 0.8211 - val_loss: 1.0711 - val_accuracy: 0.6806\n",
      "Epoch 28/100\n",
      "25/25 [==============================] - 84s 3s/step - loss: 0.9212 - accuracy: 0.8391 - val_loss: 1.0532 - val_accuracy: 0.7222\n",
      "Epoch 29/100\n",
      "25/25 [==============================] - 87s 3s/step - loss: 0.9407 - accuracy: 0.8185 - val_loss: 1.1786 - val_accuracy: 0.5833\n",
      "Epoch 30/100\n",
      "25/25 [==============================] - 85s 3s/step - loss: 0.9359 - accuracy: 0.8172 - val_loss: 1.0792 - val_accuracy: 0.6667\n",
      "Epoch 31/100\n",
      "25/25 [==============================] - 89s 4s/step - loss: 0.9145 - accuracy: 0.8481 - val_loss: 1.0660 - val_accuracy: 0.6944\n",
      "Epoch 32/100\n",
      "25/25 [==============================] - 84s 3s/step - loss: 0.9255 - accuracy: 0.8404 - val_loss: 0.9804 - val_accuracy: 0.8056\n",
      "Epoch 33/100\n",
      "25/25 [==============================] - 87s 3s/step - loss: 0.8952 - accuracy: 0.8726 - val_loss: 0.9619 - val_accuracy: 0.8333\n",
      "Epoch 34/100\n",
      "25/25 [==============================] - 86s 3s/step - loss: 0.8845 - accuracy: 0.8829 - val_loss: 0.9823 - val_accuracy: 0.8056\n",
      "Epoch 35/100\n",
      "25/25 [==============================] - 87s 3s/step - loss: 0.8782 - accuracy: 0.8842 - val_loss: 0.9876 - val_accuracy: 0.7639\n",
      "Epoch 36/100\n",
      "25/25 [==============================] - 87s 3s/step - loss: 0.8785 - accuracy: 0.8803 - val_loss: 1.0337 - val_accuracy: 0.7083\n",
      "Epoch 37/100\n",
      "25/25 [==============================] - 88s 4s/step - loss: 0.8883 - accuracy: 0.8739 - val_loss: 0.9561 - val_accuracy: 0.8194\n",
      "Epoch 38/100\n",
      "25/25 [==============================] - 88s 4s/step - loss: 0.8765 - accuracy: 0.8880 - val_loss: 1.0192 - val_accuracy: 0.7083\n",
      "Epoch 39/100\n",
      "25/25 [==============================] - 90s 4s/step - loss: 0.8780 - accuracy: 0.8842 - val_loss: 1.0007 - val_accuracy: 0.7500\n",
      "Epoch 40/100\n",
      "25/25 [==============================] - 91s 4s/step - loss: 0.8654 - accuracy: 0.8983 - val_loss: 0.9469 - val_accuracy: 0.7917\n",
      "Epoch 41/100\n",
      "25/25 [==============================] - 89s 4s/step - loss: 0.8606 - accuracy: 0.9009 - val_loss: 1.0097 - val_accuracy: 0.7500\n",
      "Epoch 42/100\n",
      "25/25 [==============================] - 92s 4s/step - loss: 0.8655 - accuracy: 0.8958 - val_loss: 0.9724 - val_accuracy: 0.7778\n",
      "Epoch 43/100\n",
      "25/25 [==============================] - 89s 4s/step - loss: 0.8660 - accuracy: 0.8970 - val_loss: 1.0248 - val_accuracy: 0.7222\n",
      "Epoch 44/100\n",
      "25/25 [==============================] - 91s 4s/step - loss: 0.8503 - accuracy: 0.9112 - val_loss: 1.0213 - val_accuracy: 0.7500\n",
      "Epoch 45/100\n",
      "25/25 [==============================] - 92s 4s/step - loss: 0.8577 - accuracy: 0.9022 - val_loss: 0.9732 - val_accuracy: 0.7917\n",
      "Epoch 46/100\n",
      "25/25 [==============================] - 174s 7s/step - loss: 0.8393 - accuracy: 0.9241 - val_loss: 0.9623 - val_accuracy: 0.7778\n",
      "Epoch 47/100\n",
      "25/25 [==============================] - 65s 3s/step - loss: 0.8389 - accuracy: 0.9292 - val_loss: 0.9694 - val_accuracy: 0.7778\n",
      "Epoch 48/100\n",
      "25/25 [==============================] - 64s 3s/step - loss: 0.8629 - accuracy: 0.9022 - val_loss: 1.0231 - val_accuracy: 0.6806\n",
      "Epoch 49/100\n",
      "25/25 [==============================] - 63s 3s/step - loss: 0.8513 - accuracy: 0.9086 - val_loss: 0.9621 - val_accuracy: 0.7778\n",
      "Epoch 50/100\n",
      "25/25 [==============================] - 63s 3s/step - loss: 0.8355 - accuracy: 0.9266 - val_loss: 0.9527 - val_accuracy: 0.8056\n",
      "Epoch 51/100\n",
      "25/25 [==============================] - 67s 3s/step - loss: 0.8362 - accuracy: 0.9344 - val_loss: 0.9624 - val_accuracy: 0.7639\n",
      "Epoch 52/100\n",
      "25/25 [==============================] - 66s 3s/step - loss: 0.8286 - accuracy: 0.9344 - val_loss: 1.0196 - val_accuracy: 0.7361\n",
      "Epoch 53/100\n",
      "25/25 [==============================] - 65s 3s/step - loss: 0.8356 - accuracy: 0.9305 - val_loss: 0.9269 - val_accuracy: 0.8472\n",
      "Epoch 54/100\n",
      "25/25 [==============================] - 65s 3s/step - loss: 0.8369 - accuracy: 0.9254 - val_loss: 0.9697 - val_accuracy: 0.7778\n",
      "Epoch 55/100\n",
      "25/25 [==============================] - 64s 3s/step - loss: 0.8456 - accuracy: 0.9215 - val_loss: 0.9934 - val_accuracy: 0.7778\n",
      "Epoch 56/100\n",
      "25/25 [==============================] - 64s 3s/step - loss: 0.8312 - accuracy: 0.9305 - val_loss: 0.9988 - val_accuracy: 0.7361\n",
      "Epoch 57/100\n",
      "25/25 [==============================] - 63s 3s/step - loss: 0.8258 - accuracy: 0.9408 - val_loss: 0.9190 - val_accuracy: 0.8611\n",
      "Epoch 58/100\n",
      "25/25 [==============================] - 63s 3s/step - loss: 0.8244 - accuracy: 0.9434 - val_loss: 0.9318 - val_accuracy: 0.8333\n",
      "Epoch 59/100\n",
      "25/25 [==============================] - 62s 2s/step - loss: 0.8199 - accuracy: 0.9472 - val_loss: 0.9406 - val_accuracy: 0.8333\n",
      "Epoch 60/100\n",
      "25/25 [==============================] - 62s 2s/step - loss: 0.8242 - accuracy: 0.9356 - val_loss: 0.9968 - val_accuracy: 0.7222\n",
      "Epoch 61/100\n",
      "25/25 [==============================] - 67s 3s/step - loss: 0.8324 - accuracy: 0.9279 - val_loss: 0.9714 - val_accuracy: 0.8056\n",
      "Epoch 62/100\n",
      "25/25 [==============================] - 64s 3s/step - loss: 0.8222 - accuracy: 0.9434 - val_loss: 0.9280 - val_accuracy: 0.8333\n",
      "Epoch 63/100\n",
      "25/25 [==============================] - 65s 3s/step - loss: 0.8280 - accuracy: 0.9382 - val_loss: 0.9736 - val_accuracy: 0.7778\n",
      "Epoch 64/100\n",
      "25/25 [==============================] - 65s 3s/step - loss: 0.8123 - accuracy: 0.9537 - val_loss: 0.9570 - val_accuracy: 0.8056\n",
      "Epoch 65/100\n",
      "25/25 [==============================] - 64s 3s/step - loss: 0.8232 - accuracy: 0.9408 - val_loss: 1.0231 - val_accuracy: 0.7500\n",
      "Epoch 66/100\n",
      "25/25 [==============================] - 64s 3s/step - loss: 0.8336 - accuracy: 0.9292 - val_loss: 0.9214 - val_accuracy: 0.8333\n",
      "Epoch 67/100\n",
      "25/25 [==============================] - 65s 3s/step - loss: 0.8187 - accuracy: 0.9459 - val_loss: 0.9817 - val_accuracy: 0.7917\n",
      "Epoch 68/100\n",
      "25/25 [==============================] - 64s 3s/step - loss: 0.8131 - accuracy: 0.9562 - val_loss: 0.9425 - val_accuracy: 0.8056\n",
      "Epoch 69/100\n",
      "25/25 [==============================] - 64s 3s/step - loss: 0.8195 - accuracy: 0.9459 - val_loss: 0.9777 - val_accuracy: 0.7917\n",
      "Epoch 70/100\n",
      "25/25 [==============================] - 65s 3s/step - loss: 0.8149 - accuracy: 0.9511 - val_loss: 0.9584 - val_accuracy: 0.8056\n",
      "Epoch 71/100\n",
      "25/25 [==============================] - 65s 3s/step - loss: 0.8106 - accuracy: 0.9550 - val_loss: 0.9477 - val_accuracy: 0.8333\n",
      "Epoch 72/100\n",
      "25/25 [==============================] - 64s 3s/step - loss: 0.8094 - accuracy: 0.9601 - val_loss: 0.9299 - val_accuracy: 0.8194\n",
      "Epoch 73/100\n",
      "25/25 [==============================] - 65s 3s/step - loss: 0.8070 - accuracy: 0.9562 - val_loss: 0.9175 - val_accuracy: 0.8333\n",
      "Epoch 74/100\n",
      "25/25 [==============================] - 65s 3s/step - loss: 0.8061 - accuracy: 0.9653 - val_loss: 0.9166 - val_accuracy: 0.8333\n",
      "Epoch 75/100\n",
      "25/25 [==============================] - 67s 3s/step - loss: 0.8068 - accuracy: 0.9627 - val_loss: 0.9111 - val_accuracy: 0.8472\n",
      "Epoch 76/100\n",
      "25/25 [==============================] - 65s 3s/step - loss: 0.8008 - accuracy: 0.9665 - val_loss: 0.9216 - val_accuracy: 0.8333\n",
      "Epoch 77/100\n",
      "25/25 [==============================] - 64s 3s/step - loss: 0.8046 - accuracy: 0.9614 - val_loss: 0.9088 - val_accuracy: 0.8472\n",
      "Epoch 78/100\n",
      "25/25 [==============================] - 64s 3s/step - loss: 0.8043 - accuracy: 0.9588 - val_loss: 0.9252 - val_accuracy: 0.8472\n",
      "Epoch 79/100\n",
      "25/25 [==============================] - 65s 3s/step - loss: 0.7993 - accuracy: 0.9653 - val_loss: 0.8977 - val_accuracy: 0.8611\n",
      "Epoch 80/100\n",
      "25/25 [==============================] - 65s 3s/step - loss: 0.7968 - accuracy: 0.9691 - val_loss: 0.9659 - val_accuracy: 0.7639\n",
      "Epoch 81/100\n",
      "25/25 [==============================] - 65s 3s/step - loss: 0.8025 - accuracy: 0.9627 - val_loss: 0.9475 - val_accuracy: 0.7917\n",
      "Epoch 82/100\n",
      "25/25 [==============================] - 65s 3s/step - loss: 0.8095 - accuracy: 0.9562 - val_loss: 0.9238 - val_accuracy: 0.8333\n",
      "Epoch 83/100\n",
      "25/25 [==============================] - 64s 3s/step - loss: 0.7969 - accuracy: 0.9730 - val_loss: 0.9233 - val_accuracy: 0.8333\n",
      "Epoch 84/100\n",
      "25/25 [==============================] - 64s 3s/step - loss: 0.7978 - accuracy: 0.9665 - val_loss: 0.9235 - val_accuracy: 0.8472\n",
      "Epoch 85/100\n",
      "25/25 [==============================] - 64s 3s/step - loss: 0.7996 - accuracy: 0.9704 - val_loss: 0.9663 - val_accuracy: 0.7778\n",
      "Epoch 86/100\n",
      "25/25 [==============================] - 66s 3s/step - loss: 0.8015 - accuracy: 0.9665 - val_loss: 0.9252 - val_accuracy: 0.8056\n",
      "Epoch 87/100\n",
      "25/25 [==============================] - 64s 3s/step - loss: 0.7958 - accuracy: 0.9704 - val_loss: 0.9182 - val_accuracy: 0.8333\n",
      "Epoch 88/100\n",
      "25/25 [==============================] - 64s 3s/step - loss: 0.7946 - accuracy: 0.9717 - val_loss: 0.9106 - val_accuracy: 0.8750\n",
      "Epoch 89/100\n",
      "25/25 [==============================] - 67s 3s/step - loss: 0.7959 - accuracy: 0.9704 - val_loss: 0.8941 - val_accuracy: 0.8750\n",
      "Epoch 90/100\n",
      "25/25 [==============================] - 64s 3s/step - loss: 0.7935 - accuracy: 0.9743 - val_loss: 0.9492 - val_accuracy: 0.8194\n",
      "Epoch 91/100\n",
      "25/25 [==============================] - 64s 3s/step - loss: 0.7932 - accuracy: 0.9730 - val_loss: 0.8881 - val_accuracy: 0.8889\n",
      "Epoch 92/100\n",
      "25/25 [==============================] - 65s 3s/step - loss: 0.7925 - accuracy: 0.9717 - val_loss: 0.9054 - val_accuracy: 0.8472\n",
      "Epoch 93/100\n",
      "25/25 [==============================] - 63s 3s/step - loss: 0.8012 - accuracy: 0.9588 - val_loss: 0.8856 - val_accuracy: 0.8889\n",
      "Epoch 94/100\n",
      "25/25 [==============================] - 64s 3s/step - loss: 0.7899 - accuracy: 0.9730 - val_loss: 0.8925 - val_accuracy: 0.8611\n",
      "Epoch 95/100\n",
      "25/25 [==============================] - 65s 3s/step - loss: 0.8036 - accuracy: 0.9575 - val_loss: 0.9661 - val_accuracy: 0.7917\n",
      "Epoch 96/100\n",
      "25/25 [==============================] - 67s 3s/step - loss: 0.8055 - accuracy: 0.9550 - val_loss: 0.8961 - val_accuracy: 0.8611\n",
      "Epoch 97/100\n",
      "25/25 [==============================] - 64s 3s/step - loss: 0.8009 - accuracy: 0.9640 - val_loss: 0.9034 - val_accuracy: 0.8472\n",
      "Epoch 98/100\n",
      "25/25 [==============================] - 64s 3s/step - loss: 0.7961 - accuracy: 0.9691 - val_loss: 0.8941 - val_accuracy: 0.8750\n",
      "Epoch 99/100\n",
      "25/25 [==============================] - 64s 3s/step - loss: 0.7968 - accuracy: 0.9665 - val_loss: 0.9077 - val_accuracy: 0.8611\n",
      "Epoch 100/100\n",
      "25/25 [==============================] - 64s 3s/step - loss: 0.8093 - accuracy: 0.9562 - val_loss: 0.9215 - val_accuracy: 0.8194\n"
     ]
    }
   ],
   "source": [
    "# Part 3 - Training the CNN\n",
    "# Training the CNN on the Training set and evaluating it on the Test set\n",
    "r=cnn.fit(x = training_set, validation_data = test_set, epochs = 100)"
   ]
  },
  {
   "cell_type": "code",
   "execution_count": 16,
   "metadata": {},
   "outputs": [
    {
     "data": {
      "image/png": "[encoded data removed]",
      "text/plain": [
       "<Figure size 432x288 with 1 Axes>"
      ]
     },
     "metadata": {
      "needs_background": "light"
     },
     "output_type": "display_data"
    },
    {
     "data": {
      "image/png": "[encoded data removed]",
      "text/plain": [
       "<Figure size 432x288 with 1 Axes>"
      ]
     },
     "metadata": {
      "needs_background": "light"
     },
     "output_type": "display_data"
    },
    {
     "data": {
      "text/plain": [
       "<Figure size 432x288 with 0 Axes>"
      ]
     },
     "metadata": {},
     "output_type": "display_data"
    }
   ],
   "source": [
    "# plot the loss\n",
    "import matplotlib.pyplot as plt\n",
    "plt.plot(r.history['loss'], label='train loss')\n",
    "plt.plot(r.history['val_loss'], label='val loss')\n",
    "plt.legend()\n",
    "plt.show()\n",
    "plt.savefig('Loss')\n",
    "\n",
    "# plot the accuracy\n",
    "plt.plot(r.history['accuracy'], label='train acc')\n",
    "plt.plot(r.history['val_accuracy'], label='val acc')\n",
    "plt.legend()\n",
    "plt.show()\n",
    "plt.savefig('Acc')"
   ]
  },
  {
   "cell_type": "code",
   "execution_count": null,
   "metadata": {},
   "outputs": [],
   "source": [
    "#loss functions and regularization parameters change is the main change than a normal CNN"
   ]
  },
  {
   "cell_type": "code",
   "execution_count": null,
   "metadata": {},
   "outputs": [],
   "source": []
  },
  {
   "cell_type": "code",
   "execution_count": null,
   "metadata": {},
   "outputs": [],
   "source": []
  },
  {
   "cell_type": "code",
   "execution_count": null,
   "metadata": {},
   "outputs": [],
   "source": []
  }
 ],
 "metadata": {
  "kernelspec": {
   "display_name": "Python 3",
   "language": "python",
   "name": "python3"
  },
  "language_info": {
   "codemirror_mode": {
    "name": "ipython",
    "version": 3
   },
   "file_extension": ".py",
   "mimetype": "text/x-python",
   "name": "python",
   "nbconvert_exporter": "python",
   "pygments_lexer": "ipython3",
   "version": "3.7.6"
  }
 },
 "nbformat": 4,
 "nbformat_minor": 4
}
